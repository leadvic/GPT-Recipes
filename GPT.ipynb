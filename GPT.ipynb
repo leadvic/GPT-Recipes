{
 "cells": [
  {
   "cell_type": "code",
   "execution_count": null,
   "metadata": {},
   "outputs": [],
   "source": [
    "import openai\n",
    "import os\n",
    "from dotenv import load_dotenv"
   ]
  },
  {
   "cell_type": "code",
   "execution_count": null,
   "metadata": {},
   "outputs": [],
   "source": [
    "load_dotenv()\n",
    "openai.api_key = os.getenv(\"OPENAI_API_KEY\")\n",
    "#openai.Model.list()"
   ]
  },
  {
   "cell_type": "code",
   "execution_count": null,
   "metadata": {},
   "outputs": [],
   "source": [
    "gpt_prompt = \"\"\"\n",
    "Classify the sentiment in these phrases:\n",
    "\n",
    "1. \"My SQL doesn´t work\"\n",
    "2. \"Estoy aburrido\"\n",
    "3. \"Tengo muchas ganas de ir al Halloween\"\n",
    "4. \"Me estoy divorciando\"\n",
    "5. \"Evalueserve is an analytics company with a lot of customers.\"\n",
    "6. \"Bueno para nada\"\n",
    "\n",
    "Give me the sentiment in positive, negative and neutral\n",
    "\"\"\"\n",
    "\n",
    "response = openai.Completion.create(\n",
    "  model='text-davinci-003',\n",
    "  prompt=gpt_prompt,\n",
    "  temperature=0.2,\n",
    "  max_tokens=100\n",
    ")\n",
    "\n",
    "if response['choices'][0]['finish_reason'] != 'stop':\n",
    "  print('----- The model needed more tokens to finish properly -----')\n",
    "else:\n",
    "  print('----- The model finished properly the response -----')\n",
    "\n",
    "print('')\n",
    "print(response['choices'][0]['text'])"
   ]
  },
  {
   "attachments": {},
   "cell_type": "markdown",
   "metadata": {},
   "source": [
    "# Spanish\n",
    "Empanadas de Horno\n",
    "\n",
    "Ingredientes para el pino de las empanadas:\n",
    "1/4 kilo de posta\n",
    "2 cebollas grandes\n",
    "3 cucharadas de aceite o manteca\n",
    "aji de colo\n",
    "1 cucharada de caldo\n",
    "1 cucharadita de harina\n",
    "sal y pimienta\n",
    "1/8 de aceitunas\n",
    "1/8 de pasas\n",
    "1 huevo duro\n",
    "\n",
    "Preparación para el pino de las empanadas: La cebolla se pica de cuadritos no muy chicos ni muy grandes. Se fríe la carne molida en el aceite caliente, se agrega la cebolla picada, aji de color, agregar un poco de caldo, harina, se condimenta con sal y pimienta, se agrega una pizca de azúcar para darle mejor sabor al pino, se retira del fuego agregando las pasas remojadas; se deja enfriar. Este pino conviene hacerlo antes que la masa para que esté frío.\n",
    "\n",
    "Ingredientes para las empanadas:\n",
    "1/2 kilo de harina\n",
    "1/8 de manteca\n",
    "1 taza de salmuera\n",
    "1 yema\n",
    "la punta de un cuchillo con polvos de hornear\n",
    "\n",
    "Preparación para las empanadas: Se cierne la harina sobre la tabla de amasar, se le hace un hueco al centro, se agrega la manteca tibia, se une bien con la harina, se le pone la yema, enseguida la salmuera tibia, se amasa y se uslerea no muy gruesa, más bien delgada, se cortan redondelas y se rellenan con una cucharada de pino, una aceituna, una torreja de huevo, se pegan los extremos con agua o clara de huevo, se forma la empanada y se pinta con yema de huevo, se colocan al horno a fuego alto por 15 minutos.\n",
    "\n"
   ]
  },
  {
   "cell_type": "code",
   "execution_count": null,
   "metadata": {},
   "outputs": [],
   "source": [
    "prompt = \"\"\"\n",
    "Oven empanadas\n",
    "\n",
    "Ingredients for the empanadas pine:\n",
    "1/4 kilo of posta\n",
    "2 large onions\n",
    "3 tablespoons of oil or butter\n",
    "colo pepper\n",
    "1 tablespoon broth\n",
    "1 teaspoon flour\n",
    "salt and pepper\n",
    "1/8 of olives\n",
    "1/8 of raisins\n",
    "1 hard-boiled egg\n",
    "\n",
    "Preparation for the empanadas pine: The onion is chopped into squares, not too small or too big. Fry the ground beef in hot oil, add the chopped onion, colored chili, add a little broth, flour, season with salt and pepper, add a pinch of sugar to give the pine a better flavor, remove from the heat adding the soaked raisins; let it cool. This pine should be done before the dough so that it is cold.\n",
    "\n",
    "Perp time:\n",
    "Cook time:\n",
    "Wait time:\n",
    "Serving size: 1 empanada pine\n",
    "Servings:\n",
    "Notes:\n",
    "Summary:\n",
    "\"\"\"\n",
    "\n",
    "response = openai.Edit.create(\n",
    "  model='text-davinci-edit-001',\n",
    "  input=prompt,\n",
    "  instruction='Based on the ingredients and preparation fill the Perp time, Cook time, Wait time, Servings, Notes, and Summary',\n",
    "  temperature=0.2\n",
    ")\n",
    "\n",
    "print('')\n",
    "print(response['choices'][0]['text'])"
   ]
  }
 ],
 "metadata": {
  "kernelspec": {
   "display_name": "Python 3",
   "language": "python",
   "name": "python3"
  },
  "language_info": {
   "codemirror_mode": {
    "name": "ipython",
    "version": 3
   },
   "file_extension": ".py",
   "mimetype": "text/x-python",
   "name": "python",
   "nbconvert_exporter": "python",
   "pygments_lexer": "ipython3",
   "version": "3.11.0 (main, Oct 24 2022, 18:26:48) [MSC v.1933 64 bit (AMD64)]"
  },
  "vscode": {
   "interpreter": {
    "hash": "6e2076e0242a4087a97a7b4644bb1254a4c07ffd6b030613a5ba2d2a48919ec0"
   }
  }
 },
 "nbformat": 4,
 "nbformat_minor": 1
}
